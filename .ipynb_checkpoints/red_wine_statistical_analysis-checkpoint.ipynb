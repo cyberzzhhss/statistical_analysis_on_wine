{
 "cells": [
  {
   "cell_type": "markdown",
   "id": "cea547fc",
   "metadata": {},
   "source": [
    "# Project"
   ]
  },
  {
   "cell_type": "markdown",
   "id": "f028a3af",
   "metadata": {},
   "source": [
    "## Import Data"
   ]
  },
  {
   "cell_type": "code",
   "execution_count": 1,
   "id": "f4d19043",
   "metadata": {},
   "outputs": [],
   "source": [
    "import math\n",
    "import pandas as pd\n",
    "import numpy as np\n",
    "import matplotlib.pyplot as plt\n",
    "import statsmodels.api as sm\n",
    "from numpy.linalg import inv\n",
    "import seaborn as sns\n",
    "import statsmodels.api as sm\n",
    "from statsmodels.formula.api import ols\n",
    "from statsmodels.stats.outliers_influence import variance_inflation_factor\n",
    "from numpy.polynomial.polynomial import polyfit\n",
    "from scipy import stats\n",
    "from sklearn.model_selection import train_test_split \n",
    "from sklearn.linear_model import LinearRegression\n",
    "from sklearn import metrics\n",
    "%matplotlib inline"
   ]
  },
  {
   "cell_type": "code",
   "execution_count": 2,
   "id": "c0d015ee",
   "metadata": {},
   "outputs": [],
   "source": [
    "wine = pd.read_csv('./data/winequality-red.csv', sep = ';')"
   ]
  },
  {
   "cell_type": "markdown",
   "id": "fefcb5e9",
   "metadata": {},
   "source": [
    "## Summary Statistics"
   ]
  },
  {
   "cell_type": "code",
   "execution_count": 3,
   "id": "0fd76ea2",
   "metadata": {},
   "outputs": [
    {
     "data": {
      "text/plain": [
       "Index(['fixed acidity', 'volatile acidity', 'citric acid', 'residual sugar',\n",
       "       'chlorides', 'free sulfur dioxide', 'total sulfur dioxide', 'density',\n",
       "       'pH', 'sulphates', 'alcohol', 'quality'],\n",
       "      dtype='object')"
      ]
     },
     "execution_count": 3,
     "metadata": {},
     "output_type": "execute_result"
    }
   ],
   "source": [
    "wine.columns"
   ]
  },
  {
   "cell_type": "code",
   "execution_count": 4,
   "id": "3e7594e6",
   "metadata": {},
   "outputs": [
    {
     "data": {
      "text/html": [
       "<div>\n",
       "<style scoped>\n",
       "    .dataframe tbody tr th:only-of-type {\n",
       "        vertical-align: middle;\n",
       "    }\n",
       "\n",
       "    .dataframe tbody tr th {\n",
       "        vertical-align: top;\n",
       "    }\n",
       "\n",
       "    .dataframe thead th {\n",
       "        text-align: right;\n",
       "    }\n",
       "</style>\n",
       "<table border=\"1\" class=\"dataframe\">\n",
       "  <thead>\n",
       "    <tr style=\"text-align: right;\">\n",
       "      <th></th>\n",
       "      <th>fixed acidity</th>\n",
       "      <th>volatile acidity</th>\n",
       "      <th>citric acid</th>\n",
       "      <th>residual sugar</th>\n",
       "      <th>chlorides</th>\n",
       "      <th>free sulfur dioxide</th>\n",
       "    </tr>\n",
       "  </thead>\n",
       "  <tbody>\n",
       "    <tr>\n",
       "      <th>count</th>\n",
       "      <td>1599.000000</td>\n",
       "      <td>1599.000000</td>\n",
       "      <td>1599.000000</td>\n",
       "      <td>1599.000000</td>\n",
       "      <td>1599.000000</td>\n",
       "      <td>1599.000000</td>\n",
       "    </tr>\n",
       "    <tr>\n",
       "      <th>mean</th>\n",
       "      <td>8.319637</td>\n",
       "      <td>0.527821</td>\n",
       "      <td>0.270976</td>\n",
       "      <td>2.538806</td>\n",
       "      <td>0.087467</td>\n",
       "      <td>15.874922</td>\n",
       "    </tr>\n",
       "    <tr>\n",
       "      <th>std</th>\n",
       "      <td>1.741096</td>\n",
       "      <td>0.179060</td>\n",
       "      <td>0.194801</td>\n",
       "      <td>1.409928</td>\n",
       "      <td>0.047065</td>\n",
       "      <td>10.460157</td>\n",
       "    </tr>\n",
       "    <tr>\n",
       "      <th>min</th>\n",
       "      <td>4.600000</td>\n",
       "      <td>0.120000</td>\n",
       "      <td>0.000000</td>\n",
       "      <td>0.900000</td>\n",
       "      <td>0.012000</td>\n",
       "      <td>1.000000</td>\n",
       "    </tr>\n",
       "    <tr>\n",
       "      <th>25%</th>\n",
       "      <td>7.100000</td>\n",
       "      <td>0.390000</td>\n",
       "      <td>0.090000</td>\n",
       "      <td>1.900000</td>\n",
       "      <td>0.070000</td>\n",
       "      <td>7.000000</td>\n",
       "    </tr>\n",
       "    <tr>\n",
       "      <th>50%</th>\n",
       "      <td>7.900000</td>\n",
       "      <td>0.520000</td>\n",
       "      <td>0.260000</td>\n",
       "      <td>2.200000</td>\n",
       "      <td>0.079000</td>\n",
       "      <td>14.000000</td>\n",
       "    </tr>\n",
       "    <tr>\n",
       "      <th>75%</th>\n",
       "      <td>9.200000</td>\n",
       "      <td>0.640000</td>\n",
       "      <td>0.420000</td>\n",
       "      <td>2.600000</td>\n",
       "      <td>0.090000</td>\n",
       "      <td>21.000000</td>\n",
       "    </tr>\n",
       "    <tr>\n",
       "      <th>max</th>\n",
       "      <td>15.900000</td>\n",
       "      <td>1.580000</td>\n",
       "      <td>1.000000</td>\n",
       "      <td>15.500000</td>\n",
       "      <td>0.611000</td>\n",
       "      <td>72.000000</td>\n",
       "    </tr>\n",
       "  </tbody>\n",
       "</table>\n",
       "</div>"
      ],
      "text/plain": [
       "       fixed acidity  volatile acidity  citric acid  residual sugar  \\\n",
       "count    1599.000000       1599.000000  1599.000000     1599.000000   \n",
       "mean        8.319637          0.527821     0.270976        2.538806   \n",
       "std         1.741096          0.179060     0.194801        1.409928   \n",
       "min         4.600000          0.120000     0.000000        0.900000   \n",
       "25%         7.100000          0.390000     0.090000        1.900000   \n",
       "50%         7.900000          0.520000     0.260000        2.200000   \n",
       "75%         9.200000          0.640000     0.420000        2.600000   \n",
       "max        15.900000          1.580000     1.000000       15.500000   \n",
       "\n",
       "         chlorides  free sulfur dioxide  \n",
       "count  1599.000000          1599.000000  \n",
       "mean      0.087467            15.874922  \n",
       "std       0.047065            10.460157  \n",
       "min       0.012000             1.000000  \n",
       "25%       0.070000             7.000000  \n",
       "50%       0.079000            14.000000  \n",
       "75%       0.090000            21.000000  \n",
       "max       0.611000            72.000000  "
      ]
     },
     "execution_count": 4,
     "metadata": {},
     "output_type": "execute_result"
    }
   ],
   "source": [
    "wine.describe()[['fixed acidity', 'volatile acidity', 'citric acid', 'residual sugar', 'chlorides', 'free sulfur dioxide']]"
   ]
  },
  {
   "cell_type": "code",
   "execution_count": 5,
   "id": "021984e9",
   "metadata": {},
   "outputs": [
    {
     "data": {
      "text/html": [
       "<div>\n",
       "<style scoped>\n",
       "    .dataframe tbody tr th:only-of-type {\n",
       "        vertical-align: middle;\n",
       "    }\n",
       "\n",
       "    .dataframe tbody tr th {\n",
       "        vertical-align: top;\n",
       "    }\n",
       "\n",
       "    .dataframe thead th {\n",
       "        text-align: right;\n",
       "    }\n",
       "</style>\n",
       "<table border=\"1\" class=\"dataframe\">\n",
       "  <thead>\n",
       "    <tr style=\"text-align: right;\">\n",
       "      <th></th>\n",
       "      <th>total sulfur dioxide</th>\n",
       "      <th>density</th>\n",
       "      <th>pH</th>\n",
       "      <th>sulphates</th>\n",
       "      <th>alcohol</th>\n",
       "      <th>quality</th>\n",
       "    </tr>\n",
       "  </thead>\n",
       "  <tbody>\n",
       "    <tr>\n",
       "      <th>count</th>\n",
       "      <td>1599.000000</td>\n",
       "      <td>1599.000000</td>\n",
       "      <td>1599.000000</td>\n",
       "      <td>1599.000000</td>\n",
       "      <td>1599.000000</td>\n",
       "      <td>1599.000000</td>\n",
       "    </tr>\n",
       "    <tr>\n",
       "      <th>mean</th>\n",
       "      <td>46.467792</td>\n",
       "      <td>0.996747</td>\n",
       "      <td>3.311113</td>\n",
       "      <td>0.658149</td>\n",
       "      <td>10.422983</td>\n",
       "      <td>5.636023</td>\n",
       "    </tr>\n",
       "    <tr>\n",
       "      <th>std</th>\n",
       "      <td>32.895324</td>\n",
       "      <td>0.001887</td>\n",
       "      <td>0.154386</td>\n",
       "      <td>0.169507</td>\n",
       "      <td>1.065668</td>\n",
       "      <td>0.807569</td>\n",
       "    </tr>\n",
       "    <tr>\n",
       "      <th>min</th>\n",
       "      <td>6.000000</td>\n",
       "      <td>0.990070</td>\n",
       "      <td>2.740000</td>\n",
       "      <td>0.330000</td>\n",
       "      <td>8.400000</td>\n",
       "      <td>3.000000</td>\n",
       "    </tr>\n",
       "    <tr>\n",
       "      <th>25%</th>\n",
       "      <td>22.000000</td>\n",
       "      <td>0.995600</td>\n",
       "      <td>3.210000</td>\n",
       "      <td>0.550000</td>\n",
       "      <td>9.500000</td>\n",
       "      <td>5.000000</td>\n",
       "    </tr>\n",
       "    <tr>\n",
       "      <th>50%</th>\n",
       "      <td>38.000000</td>\n",
       "      <td>0.996750</td>\n",
       "      <td>3.310000</td>\n",
       "      <td>0.620000</td>\n",
       "      <td>10.200000</td>\n",
       "      <td>6.000000</td>\n",
       "    </tr>\n",
       "    <tr>\n",
       "      <th>75%</th>\n",
       "      <td>62.000000</td>\n",
       "      <td>0.997835</td>\n",
       "      <td>3.400000</td>\n",
       "      <td>0.730000</td>\n",
       "      <td>11.100000</td>\n",
       "      <td>6.000000</td>\n",
       "    </tr>\n",
       "    <tr>\n",
       "      <th>max</th>\n",
       "      <td>289.000000</td>\n",
       "      <td>1.003690</td>\n",
       "      <td>4.010000</td>\n",
       "      <td>2.000000</td>\n",
       "      <td>14.900000</td>\n",
       "      <td>8.000000</td>\n",
       "    </tr>\n",
       "  </tbody>\n",
       "</table>\n",
       "</div>"
      ],
      "text/plain": [
       "       total sulfur dioxide      density           pH    sulphates  \\\n",
       "count           1599.000000  1599.000000  1599.000000  1599.000000   \n",
       "mean              46.467792     0.996747     3.311113     0.658149   \n",
       "std               32.895324     0.001887     0.154386     0.169507   \n",
       "min                6.000000     0.990070     2.740000     0.330000   \n",
       "25%               22.000000     0.995600     3.210000     0.550000   \n",
       "50%               38.000000     0.996750     3.310000     0.620000   \n",
       "75%               62.000000     0.997835     3.400000     0.730000   \n",
       "max              289.000000     1.003690     4.010000     2.000000   \n",
       "\n",
       "           alcohol      quality  \n",
       "count  1599.000000  1599.000000  \n",
       "mean     10.422983     5.636023  \n",
       "std       1.065668     0.807569  \n",
       "min       8.400000     3.000000  \n",
       "25%       9.500000     5.000000  \n",
       "50%      10.200000     6.000000  \n",
       "75%      11.100000     6.000000  \n",
       "max      14.900000     8.000000  "
      ]
     },
     "execution_count": 5,
     "metadata": {},
     "output_type": "execute_result"
    }
   ],
   "source": [
    "wine.describe()[[ 'total sulfur dioxide', 'density', 'pH', 'sulphates','alcohol', 'quality']]"
   ]
  },
  {
   "cell_type": "code",
   "execution_count": 6,
   "id": "480f1df7",
   "metadata": {},
   "outputs": [
    {
     "data": {
      "image/png": "[encoded data removed]",
      "text/plain": [
       "<Figure size 1152x1152 with 12 Axes>"
      ]
     },
     "metadata": {
      "needs_background": "light"
     },
     "output_type": "display_data"
    }
   ],
   "source": [
    "color = sns.color_palette(\"pastel\")\n",
    "fig, axis = plt.subplots(4,3, figsize=(16,16))\n",
    "\n",
    "i = 0\n",
    "columns = list(wine.columns)\n",
    "\n",
    "for row in range(4):\n",
    "    for col in range(3):\n",
    "            sns.histplot(wine[columns[i]], ax = axis[row][col], kde=True)\n",
    "            i += 1\n",
    "\n",
    "plt.show()"
   ]
  },
  {
   "cell_type": "markdown",
   "id": "e0544cae",
   "metadata": {},
   "source": [
    "# Multiple Linear Regression"
   ]
  },
  {
   "cell_type": "code",
   "execution_count": 7,
   "id": "ee17134f",
   "metadata": {},
   "outputs": [],
   "source": [
    "X = wine[[  \n",
    "    'fixed acidity', \n",
    "    'volatile acidity', \n",
    "    'citric acid', \n",
    "    'residual sugar', \n",
    "    'chlorides', \n",
    "    'free sulfur dioxide', \n",
    "    'total sulfur dioxide', \n",
    "    'density', \n",
    "    'pH', \n",
    "    'sulphates',\n",
    "    'alcohol'\n",
    "]]\n",
    "y = wine['quality']"
   ]
  },
  {
   "cell_type": "markdown",
   "id": "42b07c0d",
   "metadata": {},
   "source": [
    "## Method 1 formula"
   ]
  },
  {
   "cell_type": "code",
   "execution_count": 8,
   "id": "58ca06f3",
   "metadata": {},
   "outputs": [],
   "source": [
    "matrix_x = sm.add_constant(X).to_numpy()                 \n",
    "vector_y = wine['quality'].to_numpy()              \n",
    "matrix_x_t = np.transpose(matrix_x)                            \n",
    "matrix_x_t_x = matrix_x_t.dot(matrix_x)                              \n",
    "inv_matrix_x_t_x = inv(matrix_x_t_x)                           \n",
    "result = inv_matrix_x_t_x.dot(matrix_x_t.dot(vector_y))        \n",
    "formula_coeff_df = pd.DataFrame({'Coefficient': result})\n",
    "formula_coeff_df.index = [['intercept', 'fixed acidity', 'volatile acidity', 'citric acid', \n",
    "                   'residual sugar', 'chlorides', 'free sulfur dioxide', \n",
    "                   'total sulfur dioxide', 'density', 'pH', 'sulphates','alcohol']]"
   ]
  },
  {
   "cell_type": "code",
   "execution_count": 9,
   "id": "a1f7ef6c",
   "metadata": {},
   "outputs": [
    {
     "data": {
      "text/html": [
       "<div>\n",
       "<style scoped>\n",
       "    .dataframe tbody tr th:only-of-type {\n",
       "        vertical-align: middle;\n",
       "    }\n",
       "\n",
       "    .dataframe tbody tr th {\n",
       "        vertical-align: top;\n",
       "    }\n",
       "\n",
       "    .dataframe thead th {\n",
       "        text-align: right;\n",
       "    }\n",
       "</style>\n",
       "<table border=\"1\" class=\"dataframe\">\n",
       "  <thead>\n",
       "    <tr style=\"text-align: right;\">\n",
       "      <th></th>\n",
       "      <th>Coefficient</th>\n",
       "    </tr>\n",
       "  </thead>\n",
       "  <tbody>\n",
       "    <tr>\n",
       "      <th>intercept</th>\n",
       "      <td>21.965208</td>\n",
       "    </tr>\n",
       "    <tr>\n",
       "      <th>fixed acidity</th>\n",
       "      <td>0.024991</td>\n",
       "    </tr>\n",
       "    <tr>\n",
       "      <th>volatile acidity</th>\n",
       "      <td>-1.083590</td>\n",
       "    </tr>\n",
       "    <tr>\n",
       "      <th>citric acid</th>\n",
       "      <td>-0.182564</td>\n",
       "    </tr>\n",
       "    <tr>\n",
       "      <th>residual sugar</th>\n",
       "      <td>0.016331</td>\n",
       "    </tr>\n",
       "    <tr>\n",
       "      <th>chlorides</th>\n",
       "      <td>-1.874225</td>\n",
       "    </tr>\n",
       "    <tr>\n",
       "      <th>free sulfur dioxide</th>\n",
       "      <td>0.004361</td>\n",
       "    </tr>\n",
       "    <tr>\n",
       "      <th>total sulfur dioxide</th>\n",
       "      <td>-0.003265</td>\n",
       "    </tr>\n",
       "    <tr>\n",
       "      <th>density</th>\n",
       "      <td>-17.881164</td>\n",
       "    </tr>\n",
       "    <tr>\n",
       "      <th>pH</th>\n",
       "      <td>-0.413653</td>\n",
       "    </tr>\n",
       "    <tr>\n",
       "      <th>sulphates</th>\n",
       "      <td>0.916334</td>\n",
       "    </tr>\n",
       "    <tr>\n",
       "      <th>alcohol</th>\n",
       "      <td>0.276198</td>\n",
       "    </tr>\n",
       "  </tbody>\n",
       "</table>\n",
       "</div>"
      ],
      "text/plain": [
       "                      Coefficient\n",
       "intercept               21.965208\n",
       "fixed acidity            0.024991\n",
       "volatile acidity        -1.083590\n",
       "citric acid             -0.182564\n",
       "residual sugar           0.016331\n",
       "chlorides               -1.874225\n",
       "free sulfur dioxide      0.004361\n",
       "total sulfur dioxide    -0.003265\n",
       "density                -17.881164\n",
       "pH                      -0.413653\n",
       "sulphates                0.916334\n",
       "alcohol                  0.276198"
      ]
     },
     "execution_count": 9,
     "metadata": {},
     "output_type": "execute_result"
    }
   ],
   "source": [
    "formula_coeff_df"
   ]
  },
  {
   "cell_type": "markdown",
   "id": "90ac9e6d",
   "metadata": {},
   "source": [
    "## Method 2 sklearn.linear_model.LinearRegression"
   ]
  },
  {
   "cell_type": "code",
   "execution_count": 10,
   "id": "27aa736f",
   "metadata": {},
   "outputs": [],
   "source": [
    "reg = LinearRegression()\n",
    "reg.fit(X, y)\n",
    "\n",
    "res = reg.coef_.tolist()\n",
    "res.insert(0, reg.intercept_)\n",
    "\n",
    "coeff_df = pd.DataFrame({'Coefficient': res})\n",
    "coeff_df.index = [['intercept', 'fixed acidity', 'volatile acidity', 'citric acid', \n",
    "                   'residual sugar', 'chlorides', 'free sulfur dioxide', \n",
    "                   'total sulfur dioxide', 'density', 'pH', 'sulphates','alcohol']]"
   ]
  },
  {
   "cell_type": "code",
   "execution_count": 11,
   "id": "be79adaf",
   "metadata": {},
   "outputs": [
    {
     "data": {
      "text/html": [
       "<div>\n",
       "<style scoped>\n",
       "    .dataframe tbody tr th:only-of-type {\n",
       "        vertical-align: middle;\n",
       "    }\n",
       "\n",
       "    .dataframe tbody tr th {\n",
       "        vertical-align: top;\n",
       "    }\n",
       "\n",
       "    .dataframe thead th {\n",
       "        text-align: right;\n",
       "    }\n",
       "</style>\n",
       "<table border=\"1\" class=\"dataframe\">\n",
       "  <thead>\n",
       "    <tr style=\"text-align: right;\">\n",
       "      <th></th>\n",
       "      <th>Coefficient</th>\n",
       "    </tr>\n",
       "  </thead>\n",
       "  <tbody>\n",
       "    <tr>\n",
       "      <th>intercept</th>\n",
       "      <td>21.965208</td>\n",
       "    </tr>\n",
       "    <tr>\n",
       "      <th>fixed acidity</th>\n",
       "      <td>0.024991</td>\n",
       "    </tr>\n",
       "    <tr>\n",
       "      <th>volatile acidity</th>\n",
       "      <td>-1.083590</td>\n",
       "    </tr>\n",
       "    <tr>\n",
       "      <th>citric acid</th>\n",
       "      <td>-0.182564</td>\n",
       "    </tr>\n",
       "    <tr>\n",
       "      <th>residual sugar</th>\n",
       "      <td>0.016331</td>\n",
       "    </tr>\n",
       "    <tr>\n",
       "      <th>chlorides</th>\n",
       "      <td>-1.874225</td>\n",
       "    </tr>\n",
       "    <tr>\n",
       "      <th>free sulfur dioxide</th>\n",
       "      <td>0.004361</td>\n",
       "    </tr>\n",
       "    <tr>\n",
       "      <th>total sulfur dioxide</th>\n",
       "      <td>-0.003265</td>\n",
       "    </tr>\n",
       "    <tr>\n",
       "      <th>density</th>\n",
       "      <td>-17.881164</td>\n",
       "    </tr>\n",
       "    <tr>\n",
       "      <th>pH</th>\n",
       "      <td>-0.413653</td>\n",
       "    </tr>\n",
       "    <tr>\n",
       "      <th>sulphates</th>\n",
       "      <td>0.916334</td>\n",
       "    </tr>\n",
       "    <tr>\n",
       "      <th>alcohol</th>\n",
       "      <td>0.276198</td>\n",
       "    </tr>\n",
       "  </tbody>\n",
       "</table>\n",
       "</div>"
      ],
      "text/plain": [
       "                      Coefficient\n",
       "intercept               21.965208\n",
       "fixed acidity            0.024991\n",
       "volatile acidity        -1.083590\n",
       "citric acid             -0.182564\n",
       "residual sugar           0.016331\n",
       "chlorides               -1.874225\n",
       "free sulfur dioxide      0.004361\n",
       "total sulfur dioxide    -0.003265\n",
       "density                -17.881164\n",
       "pH                      -0.413653\n",
       "sulphates                0.916334\n",
       "alcohol                  0.276198"
      ]
     },
     "execution_count": 11,
     "metadata": {},
     "output_type": "execute_result"
    }
   ],
   "source": [
    "coeff_df"
   ]
  },
  {
   "cell_type": "code",
   "execution_count": 12,
   "id": "e6d9e232",
   "metadata": {},
   "outputs": [
    {
     "data": {
      "text/plain": [
       "0.3605517030386881"
      ]
     },
     "execution_count": 12,
     "metadata": {},
     "output_type": "execute_result"
    }
   ],
   "source": [
    "reg.score(X,y)"
   ]
  },
  {
   "cell_type": "code",
   "execution_count": 13,
   "id": "2bdc9a2a",
   "metadata": {},
   "outputs": [
    {
     "name": "stdout",
     "output_type": "stream",
     "text": [
      "                            OLS Regression Results                            \n",
      "==============================================================================\n",
      "Dep. Variable:                quality   R-squared:                       0.361\n",
      "Model:                            OLS   Adj. R-squared:                  0.356\n",
      "Method:                 Least Squares   F-statistic:                     81.35\n",
      "Date:                Thu, 13 May 2021   Prob (F-statistic):          1.79e-145\n",
      "Time:                        21:26:34   Log-Likelihood:                -1569.1\n",
      "No. Observations:                1599   AIC:                             3162.\n",
      "Df Residuals:                    1587   BIC:                             3227.\n",
      "Df Model:                          11                                         \n",
      "Covariance Type:            nonrobust                                         \n",
      "========================================================================================\n",
      "                           coef    std err          t      P>|t|      [0.025      0.975]\n",
      "----------------------------------------------------------------------------------------\n",
      "const                   21.9652     21.195      1.036      0.300     -19.607      63.538\n",
      "fixed acidity            0.0250      0.026      0.963      0.336      -0.026       0.076\n",
      "volatile acidity        -1.0836      0.121     -8.948      0.000      -1.321      -0.846\n",
      "citric acid             -0.1826      0.147     -1.240      0.215      -0.471       0.106\n",
      "residual sugar           0.0163      0.015      1.089      0.276      -0.013       0.046\n",
      "chlorides               -1.8742      0.419     -4.470      0.000      -2.697      -1.052\n",
      "free sulfur dioxide      0.0044      0.002      2.009      0.045       0.000       0.009\n",
      "total sulfur dioxide    -0.0033      0.001     -4.480      0.000      -0.005      -0.002\n",
      "density                -17.8812     21.633     -0.827      0.409     -60.314      24.551\n",
      "pH                      -0.4137      0.192     -2.159      0.031      -0.789      -0.038\n",
      "sulphates                0.9163      0.114      8.014      0.000       0.692       1.141\n",
      "alcohol                  0.2762      0.026     10.429      0.000       0.224       0.328\n",
      "==============================================================================\n",
      "Omnibus:                       27.376   Durbin-Watson:                   1.757\n",
      "Prob(Omnibus):                  0.000   Jarque-Bera (JB):               40.965\n",
      "Skew:                          -0.168   Prob(JB):                     1.27e-09\n",
      "Kurtosis:                       3.708   Cond. No.                     1.13e+05\n",
      "==============================================================================\n",
      "\n",
      "Notes:\n",
      "[1] Standard Errors assume that the covariance matrix of the errors is correctly specified.\n",
      "[2] The condition number is large, 1.13e+05. This might indicate that there are\n",
      "strong multicollinearity or other numerical problems.\n"
     ]
    }
   ],
   "source": [
    "X_ = sm.add_constant(X)\n",
    "model = sm.OLS(y,X_).fit() \n",
    "print(model.summary())"
   ]
  },
  {
   "cell_type": "code",
   "execution_count": 14,
   "id": "12ca16bd",
   "metadata": {},
   "outputs": [
    {
     "name": "stdout",
     "output_type": "stream",
     "text": [
      "Bar graph showing the comparison of actual and predicted values\n"
     ]
    },
    {
     "data": {
      "text/plain": [
       "<Figure size 432x288 with 0 Axes>"
      ]
     },
     "metadata": {},
     "output_type": "display_data"
    },
    {
     "data": {
      "image/png": "[encoded data removed]",
      "text/plain": [
       "<Figure size 864x576 with 1 Axes>"
      ]
     },
     "metadata": {
      "needs_background": "light"
     },
     "output_type": "display_data"
    }
   ],
   "source": [
    "print('Bar graph showing the comparison of actual and predicted values')\n",
    "y_pred = reg.predict(X)\n",
    "df = pd.DataFrame({'Actual': y, 'Predicted': y_pred})\n",
    "df = df[:30] ## only showing 30 values\n",
    "fig = plt.figure()\n",
    "df.plot(kind = 'bar',figsize=(12,8))\n",
    "plt.grid(which = 'major', linewidth = '0.5')\n",
    "plt.grid(which = 'minor', linewidth = '0.5')\n",
    "plt.show()"
   ]
  },
  {
   "cell_type": "markdown",
   "id": "74be3fb4",
   "metadata": {},
   "source": [
    "# Regression Conditions Verfication"
   ]
  },
  {
   "cell_type": "markdown",
   "id": "40e5baff",
   "metadata": {},
   "source": [
    "## Check Linearity and homoscedasticity"
   ]
  },
  {
   "cell_type": "code",
   "execution_count": 15,
   "id": "76c87f54",
   "metadata": {},
   "outputs": [],
   "source": [
    "y_pred = reg.predict(X)\n",
    "residual = y - y_pred"
   ]
  },
  {
   "cell_type": "code",
   "execution_count": 16,
   "id": "cd60b09c",
   "metadata": {},
   "outputs": [],
   "source": [
    "intercept, slope = polyfit(y_pred, residual, 1)"
   ]
  },
  {
   "cell_type": "code",
   "execution_count": 17,
   "id": "af2120e4",
   "metadata": {},
   "outputs": [
    {
     "data": {
      "image/png": "[encoded data removed]",
      "text/plain": [
       "<Figure size 720x720 with 1 Axes>"
      ]
     },
     "metadata": {
      "needs_background": "light"
     },
     "output_type": "display_data"
    }
   ],
   "source": [
    "fig3 = plt.figure(figsize = (10, 10))\n",
    "plt.grid(color = 'b', linewidth = 0.2, )\n",
    "\n",
    "plt.plot(y_pred, residual, '.')\n",
    "plt.plot(y_pred, intercept + slope * y_pred, '-')\n",
    "plt.xlabel('predicated')\n",
    "plt.ylabel('residual')\n",
    "plt.show()"
   ]
  },
  {
   "cell_type": "markdown",
   "id": "2d6e2e75",
   "metadata": {},
   "source": [
    "## Check Normality"
   ]
  },
  {
   "cell_type": "code",
   "execution_count": 18,
   "id": "bc693789",
   "metadata": {},
   "outputs": [],
   "source": [
    "y_pred = reg.predict(X)\n",
    "residual = y - y_pred"
   ]
  },
  {
   "cell_type": "code",
   "execution_count": 19,
   "id": "617c0293",
   "metadata": {},
   "outputs": [
    {
     "data": {
      "text/plain": [
       "NormaltestResult(statistic=27.376114485378835, pvalue=1.1359318363377193e-06)"
      ]
     },
     "execution_count": 19,
     "metadata": {},
     "output_type": "execute_result"
    }
   ],
   "source": [
    "stats.normaltest(residual)"
   ]
  },
  {
   "cell_type": "code",
   "execution_count": 20,
   "id": "afcbc472",
   "metadata": {},
   "outputs": [
    {
     "data": {
      "text/plain": [
       "count    1.599000e+03\n",
       "mean     4.810272e-16\n",
       "std      6.457770e-01\n",
       "min     -2.689107e+00\n",
       "25%     -3.665227e-01\n",
       "50%     -4.698624e-02\n",
       "75%      4.520182e-01\n",
       "max      2.024975e+00\n",
       "Name: quality, dtype: float64"
      ]
     },
     "execution_count": 20,
     "metadata": {},
     "output_type": "execute_result"
    }
   ],
   "source": [
    "residual.describe()"
   ]
  },
  {
   "cell_type": "code",
   "execution_count": 21,
   "id": "e87dd449",
   "metadata": {},
   "outputs": [
    {
     "data": {
      "text/plain": [
       "0.6457770301797514"
      ]
     },
     "execution_count": 21,
     "metadata": {},
     "output_type": "execute_result"
    }
   ],
   "source": [
    "residual.describe()['std']"
   ]
  },
  {
   "cell_type": "code",
   "execution_count": 22,
   "id": "1f7b8d6d",
   "metadata": {},
   "outputs": [],
   "source": [
    "np.random.seed(0)\n",
    "mu, sigma = 0, residual.describe()['std'] # mean and standard deviation\n",
    "norm_data= np.random.normal(mu, sigma, 1000)"
   ]
  },
  {
   "cell_type": "code",
   "execution_count": 23,
   "id": "d6da3ce5",
   "metadata": {},
   "outputs": [
    {
     "data": {
      "image/png": "[encoded data removed]",
      "text/plain": [
       "<Figure size 576x576 with 1 Axes>"
      ]
     },
     "metadata": {
      "needs_background": "light"
     },
     "output_type": "display_data"
    }
   ],
   "source": [
    "plt.figure(figsize = (8,8))\n",
    "plt.hist(residual, bins = 50, histtype='step', label ='residual distribution')\n",
    "plt.hist(norm_data, bins = 50, histtype='step', label = 'normal distribution')\n",
    "plt.legend(loc='upper right')\n",
    "plt.show()"
   ]
  },
  {
   "cell_type": "code",
   "execution_count": 24,
   "id": "7d8d14de",
   "metadata": {},
   "outputs": [
    {
     "name": "stdout",
     "output_type": "stream",
     "text": [
      "ShapiroResult(statistic=0.9908717274665833, pvalue=1.9549368346361007e-08)\n"
     ]
    }
   ],
   "source": [
    "# shapiro-Wilk normality test\n",
    "shapiro_norm = stats.shapiro(residual)\n",
    "print(shapiro_norm)"
   ]
  },
  {
   "cell_type": "code",
   "execution_count": 25,
   "id": "c2c913ee",
   "metadata": {},
   "outputs": [
    {
     "name": "stdout",
     "output_type": "stream",
     "text": [
      "pp plot\n"
     ]
    },
    {
     "data": {
      "image/png": "[encoded data removed]",
      "text/plain": [
       "<Figure size 432x288 with 1 Axes>"
      ]
     },
     "metadata": {
      "needs_background": "light"
     },
     "output_type": "display_data"
    }
   ],
   "source": [
    "# pp plot\n",
    "print('pp plot')\n",
    "pp = sm.ProbPlot(residual, fit=True)\n",
    "fig = pp.ppplot(line='45')\n",
    "plt.show()"
   ]
  },
  {
   "cell_type": "markdown",
   "id": "4dbc6799",
   "metadata": {},
   "source": [
    "## Check Multicollinearity"
   ]
  },
  {
   "cell_type": "code",
   "execution_count": 26,
   "id": "3225817c",
   "metadata": {},
   "outputs": [],
   "source": [
    "from statsmodels.stats.outliers_influence import variance_inflation_factor"
   ]
  },
  {
   "cell_type": "code",
   "execution_count": 27,
   "id": "d7e082e2",
   "metadata": {},
   "outputs": [],
   "source": [
    "X = wine[[  \n",
    "    'fixed acidity', \n",
    "    'volatile acidity', \n",
    "    'citric acid', \n",
    "    'residual sugar', \n",
    "    'chlorides', \n",
    "    'free sulfur dioxide', \n",
    "    'total sulfur dioxide', \n",
    "    'density', \n",
    "    'pH', \n",
    "    'sulphates',\n",
    "    'alcohol'\n",
    "]]\n",
    "vif_data = pd.DataFrame()\n",
    "vif_data['Feature'] = X.columns\n",
    "vif_data[\"VIF Factor\"] = [variance_inflation_factor(X.values, i) for i in range(len(X.columns))]"
   ]
  },
  {
   "cell_type": "code",
   "execution_count": 28,
   "id": "3c52c5a9",
   "metadata": {},
   "outputs": [
    {
     "data": {
      "text/html": [
       "<div>\n",
       "<style scoped>\n",
       "    .dataframe tbody tr th:only-of-type {\n",
       "        vertical-align: middle;\n",
       "    }\n",
       "\n",
       "    .dataframe tbody tr th {\n",
       "        vertical-align: top;\n",
       "    }\n",
       "\n",
       "    .dataframe thead th {\n",
       "        text-align: right;\n",
       "    }\n",
       "</style>\n",
       "<table border=\"1\" class=\"dataframe\">\n",
       "  <thead>\n",
       "    <tr style=\"text-align: right;\">\n",
       "      <th></th>\n",
       "      <th>Feature</th>\n",
       "      <th>VIF Factor</th>\n",
       "    </tr>\n",
       "  </thead>\n",
       "  <tbody>\n",
       "    <tr>\n",
       "      <th>0</th>\n",
       "      <td>fixed acidity</td>\n",
       "      <td>74.452265</td>\n",
       "    </tr>\n",
       "    <tr>\n",
       "      <th>1</th>\n",
       "      <td>volatile acidity</td>\n",
       "      <td>17.060026</td>\n",
       "    </tr>\n",
       "    <tr>\n",
       "      <th>2</th>\n",
       "      <td>citric acid</td>\n",
       "      <td>9.183495</td>\n",
       "    </tr>\n",
       "    <tr>\n",
       "      <th>3</th>\n",
       "      <td>residual sugar</td>\n",
       "      <td>4.662992</td>\n",
       "    </tr>\n",
       "    <tr>\n",
       "      <th>4</th>\n",
       "      <td>chlorides</td>\n",
       "      <td>6.554877</td>\n",
       "    </tr>\n",
       "    <tr>\n",
       "      <th>5</th>\n",
       "      <td>free sulfur dioxide</td>\n",
       "      <td>6.442682</td>\n",
       "    </tr>\n",
       "    <tr>\n",
       "      <th>6</th>\n",
       "      <td>total sulfur dioxide</td>\n",
       "      <td>6.519699</td>\n",
       "    </tr>\n",
       "    <tr>\n",
       "      <th>7</th>\n",
       "      <td>density</td>\n",
       "      <td>1479.287209</td>\n",
       "    </tr>\n",
       "    <tr>\n",
       "      <th>8</th>\n",
       "      <td>pH</td>\n",
       "      <td>1070.967685</td>\n",
       "    </tr>\n",
       "    <tr>\n",
       "      <th>9</th>\n",
       "      <td>sulphates</td>\n",
       "      <td>21.590621</td>\n",
       "    </tr>\n",
       "    <tr>\n",
       "      <th>10</th>\n",
       "      <td>alcohol</td>\n",
       "      <td>124.394866</td>\n",
       "    </tr>\n",
       "  </tbody>\n",
       "</table>\n",
       "</div>"
      ],
      "text/plain": [
       "                 Feature   VIF Factor\n",
       "0          fixed acidity    74.452265\n",
       "1       volatile acidity    17.060026\n",
       "2            citric acid     9.183495\n",
       "3         residual sugar     4.662992\n",
       "4              chlorides     6.554877\n",
       "5    free sulfur dioxide     6.442682\n",
       "6   total sulfur dioxide     6.519699\n",
       "7                density  1479.287209\n",
       "8                     pH  1070.967685\n",
       "9              sulphates    21.590621\n",
       "10               alcohol   124.394866"
      ]
     },
     "execution_count": 28,
     "metadata": {},
     "output_type": "execute_result"
    }
   ],
   "source": [
    "vif_data"
   ]
  },
  {
   "cell_type": "markdown",
   "id": "02af438a",
   "metadata": {},
   "source": [
    "## Pearson Correlation"
   ]
  },
  {
   "cell_type": "code",
   "execution_count": 29,
   "id": "35dcfee3",
   "metadata": {},
   "outputs": [],
   "source": [
    "from scipy.stats import pearsonr"
   ]
  },
  {
   "cell_type": "code",
   "execution_count": 30,
   "id": "8374a055",
   "metadata": {},
   "outputs": [],
   "source": [
    "def get_correlation(col1, col2, df):\n",
    "    pearson_corr, p_value = pearsonr(df[col1], df[col2])\n",
    "    print(\"Correlation between {} and {} is {}\".format(col1,col2, pearson_corr))\n",
    "    print(\"P-value of this correlation is {}\".format(p_value))"
   ]
  },
  {
   "cell_type": "code",
   "execution_count": 31,
   "id": "1f7156e3",
   "metadata": {},
   "outputs": [
    {
     "name": "stdout",
     "output_type": "stream",
     "text": [
      "Correlation between alcohol and pH is 0.20563250850549816\n",
      "P-value of this correlation is 9.96449774146556e-17\n"
     ]
    }
   ],
   "source": [
    "get_correlation('alcohol','pH', wine)"
   ]
  },
  {
   "cell_type": "code",
   "execution_count": 32,
   "id": "ba586126",
   "metadata": {},
   "outputs": [
    {
     "name": "stdout",
     "output_type": "stream",
     "text": [
      "Correlation between free sulfur dioxide and total sulfur dioxide is 0.6676664504810216\n",
      "P-value of this correlation is 6.404722954684403e-207\n"
     ]
    }
   ],
   "source": [
    "get_correlation('free sulfur dioxide','total sulfur dioxide', wine)"
   ]
  },
  {
   "cell_type": "code",
   "execution_count": 33,
   "id": "a6507451",
   "metadata": {},
   "outputs": [
    {
     "name": "stdout",
     "output_type": "stream",
     "text": [
      "\n",
      "Correlation matrix\n"
     ]
    },
    {
     "data": {
      "text/plain": [
       "<AxesSubplot:>"
      ]
     },
     "execution_count": 33,
     "metadata": {},
     "output_type": "execute_result"
    },
    {
     "data": {
      "image/png": "[encoded data removed]",
      "text/plain": [
       "<Figure size 864x864 with 2 Axes>"
      ]
     },
     "metadata": {
      "needs_background": "light"
     },
     "output_type": "display_data"
    }
   ],
   "source": [
    "# Correlation matrix\n",
    "print('\\nCorrelation matrix')\n",
    "df = pd.DataFrame(wine,columns=[  \n",
    "    'fixed acidity', \n",
    "    'volatile acidity', \n",
    "    'citric acid', \n",
    "    'residual sugar', \n",
    "    'chlorides', \n",
    "    'free sulfur dioxide', \n",
    "    'total sulfur dioxide', \n",
    "    'density', \n",
    "    'pH', \n",
    "    'sulphates',\n",
    "    'alcohol'\n",
    "])\n",
    "correlation_Matrix = df.corr(method = 'pearson')\n",
    "fig5 = plt.figure(figsize = (12,12))\n",
    "sns.heatmap(correlation_Matrix, annot=True,linewidths=1)"
   ]
  },
  {
   "cell_type": "markdown",
   "id": "c3a7822e",
   "metadata": {},
   "source": [
    "## Principal Component Analysis"
   ]
  },
  {
   "cell_type": "code",
   "execution_count": 34,
   "id": "2f808ac5",
   "metadata": {},
   "outputs": [],
   "source": [
    "sns.set()"
   ]
  },
  {
   "cell_type": "code",
   "execution_count": 35,
   "id": "3e5d3ff8",
   "metadata": {},
   "outputs": [],
   "source": [
    "X = wine[[  \n",
    "    'fixed acidity', \n",
    "    'volatile acidity', \n",
    "    'citric acid', \n",
    "    'residual sugar', \n",
    "    'chlorides', \n",
    "    'free sulfur dioxide', \n",
    "    'total sulfur dioxide', \n",
    "    'density', \n",
    "    'pH', \n",
    "    'sulphates',\n",
    "    'alcohol'\n",
    "]]\n",
    "y = wine['quality']"
   ]
  },
  {
   "cell_type": "code",
   "execution_count": 36,
   "id": "6fbf4c08",
   "metadata": {},
   "outputs": [],
   "source": [
    "from sklearn.preprocessing import StandardScaler\n",
    "sc = StandardScaler()\n",
    "sc_fitted = sc.fit(X)\n",
    "X = sc_fitted.transform(X)"
   ]
  },
  {
   "cell_type": "code",
   "execution_count": 37,
   "id": "fd3fd320",
   "metadata": {},
   "outputs": [],
   "source": [
    "from sklearn.decomposition import PCA\n",
    "pca = PCA() \n",
    "pca_fitted = pca.fit(X)\n",
    "X_pca = pca.transform(X)"
   ]
  },
  {
   "cell_type": "code",
   "execution_count": 38,
   "id": "76519bbf",
   "metadata": {},
   "outputs": [
    {
     "data": {
      "image/png": "[encoded data removed]",
      "text/plain": [
       "<Figure size 576x576 with 1 Axes>"
      ]
     },
     "metadata": {},
     "output_type": "display_data"
    }
   ],
   "source": [
    "#plot the graph to find the principal components\n",
    "plt.figure(figsize=(8,8))\n",
    "plt.xlabel('Number of Components')\n",
    "plt.ylabel('Percentage Explained Variance')\n",
    "plt.plot(np.cumsum(pca.explained_variance_ratio_), 'ro-')\n",
    "plt.show()"
   ]
  },
  {
   "cell_type": "code",
   "execution_count": 39,
   "id": "a275b7cd",
   "metadata": {},
   "outputs": [
    {
     "data": {
      "text/html": [
       "<div>\n",
       "<style scoped>\n",
       "    .dataframe tbody tr th:only-of-type {\n",
       "        vertical-align: middle;\n",
       "    }\n",
       "\n",
       "    .dataframe tbody tr th {\n",
       "        vertical-align: top;\n",
       "    }\n",
       "\n",
       "    .dataframe thead th {\n",
       "        text-align: right;\n",
       "    }\n",
       "</style>\n",
       "<table border=\"1\" class=\"dataframe\">\n",
       "  <thead>\n",
       "    <tr style=\"text-align: right;\">\n",
       "      <th></th>\n",
       "      <th>0</th>\n",
       "      <th>1</th>\n",
       "      <th>2</th>\n",
       "      <th>3</th>\n",
       "      <th>4</th>\n",
       "      <th>5</th>\n",
       "      <th>6</th>\n",
       "      <th>7</th>\n",
       "      <th>8</th>\n",
       "      <th>9</th>\n",
       "      <th>10</th>\n",
       "    </tr>\n",
       "  </thead>\n",
       "  <tbody>\n",
       "    <tr>\n",
       "      <th>0</th>\n",
       "      <td>0.489314</td>\n",
       "      <td>-0.238584</td>\n",
       "      <td>0.463632</td>\n",
       "      <td>0.146107</td>\n",
       "      <td>0.212247</td>\n",
       "      <td>-0.036158</td>\n",
       "      <td>0.023575</td>\n",
       "      <td>0.395353</td>\n",
       "      <td>-0.438520</td>\n",
       "      <td>0.242921</td>\n",
       "      <td>-0.113232</td>\n",
       "    </tr>\n",
       "    <tr>\n",
       "      <th>1</th>\n",
       "      <td>-0.110503</td>\n",
       "      <td>0.274930</td>\n",
       "      <td>-0.151791</td>\n",
       "      <td>0.272080</td>\n",
       "      <td>0.148052</td>\n",
       "      <td>0.513567</td>\n",
       "      <td>0.569487</td>\n",
       "      <td>0.233575</td>\n",
       "      <td>0.006711</td>\n",
       "      <td>-0.037554</td>\n",
       "      <td>-0.386181</td>\n",
       "    </tr>\n",
       "    <tr>\n",
       "      <th>2</th>\n",
       "      <td>-0.123302</td>\n",
       "      <td>-0.449963</td>\n",
       "      <td>0.238247</td>\n",
       "      <td>0.101283</td>\n",
       "      <td>-0.092614</td>\n",
       "      <td>0.428793</td>\n",
       "      <td>0.322415</td>\n",
       "      <td>-0.338871</td>\n",
       "      <td>0.057697</td>\n",
       "      <td>0.279786</td>\n",
       "      <td>0.471673</td>\n",
       "    </tr>\n",
       "    <tr>\n",
       "      <th>3</th>\n",
       "      <td>-0.229617</td>\n",
       "      <td>0.078960</td>\n",
       "      <td>-0.079418</td>\n",
       "      <td>-0.372793</td>\n",
       "      <td>0.666195</td>\n",
       "      <td>-0.043538</td>\n",
       "      <td>-0.034577</td>\n",
       "      <td>-0.174500</td>\n",
       "      <td>-0.003788</td>\n",
       "      <td>0.550872</td>\n",
       "      <td>-0.122181</td>\n",
       "    </tr>\n",
       "    <tr>\n",
       "      <th>4</th>\n",
       "      <td>-0.082614</td>\n",
       "      <td>0.218735</td>\n",
       "      <td>-0.058573</td>\n",
       "      <td>0.732144</td>\n",
       "      <td>0.246501</td>\n",
       "      <td>-0.159152</td>\n",
       "      <td>-0.222465</td>\n",
       "      <td>0.157077</td>\n",
       "      <td>0.267530</td>\n",
       "      <td>0.225962</td>\n",
       "      <td>0.350681</td>\n",
       "    </tr>\n",
       "    <tr>\n",
       "      <th>5</th>\n",
       "      <td>0.101479</td>\n",
       "      <td>0.411449</td>\n",
       "      <td>0.069593</td>\n",
       "      <td>0.049156</td>\n",
       "      <td>0.304339</td>\n",
       "      <td>-0.014000</td>\n",
       "      <td>0.136308</td>\n",
       "      <td>-0.391152</td>\n",
       "      <td>-0.522116</td>\n",
       "      <td>-0.381263</td>\n",
       "      <td>0.361645</td>\n",
       "    </tr>\n",
       "    <tr>\n",
       "      <th>6</th>\n",
       "      <td>-0.350227</td>\n",
       "      <td>-0.533735</td>\n",
       "      <td>0.105497</td>\n",
       "      <td>0.290663</td>\n",
       "      <td>0.370413</td>\n",
       "      <td>-0.116596</td>\n",
       "      <td>-0.093662</td>\n",
       "      <td>-0.170481</td>\n",
       "      <td>-0.025138</td>\n",
       "      <td>-0.447469</td>\n",
       "      <td>-0.327651</td>\n",
       "    </tr>\n",
       "    <tr>\n",
       "      <th>7</th>\n",
       "      <td>-0.177595</td>\n",
       "      <td>-0.078775</td>\n",
       "      <td>-0.377516</td>\n",
       "      <td>0.299845</td>\n",
       "      <td>-0.357009</td>\n",
       "      <td>-0.204781</td>\n",
       "      <td>0.019036</td>\n",
       "      <td>-0.239223</td>\n",
       "      <td>-0.561391</td>\n",
       "      <td>0.374604</td>\n",
       "      <td>-0.217626</td>\n",
       "    </tr>\n",
       "    <tr>\n",
       "      <th>8</th>\n",
       "      <td>-0.194021</td>\n",
       "      <td>0.129110</td>\n",
       "      <td>0.381450</td>\n",
       "      <td>-0.007523</td>\n",
       "      <td>-0.111339</td>\n",
       "      <td>-0.635405</td>\n",
       "      <td>0.592116</td>\n",
       "      <td>-0.020719</td>\n",
       "      <td>0.167746</td>\n",
       "      <td>0.058367</td>\n",
       "      <td>-0.037603</td>\n",
       "    </tr>\n",
       "    <tr>\n",
       "      <th>9</th>\n",
       "      <td>-0.249523</td>\n",
       "      <td>0.365925</td>\n",
       "      <td>0.621677</td>\n",
       "      <td>0.092872</td>\n",
       "      <td>-0.217671</td>\n",
       "      <td>0.248483</td>\n",
       "      <td>-0.370750</td>\n",
       "      <td>-0.239990</td>\n",
       "      <td>-0.010970</td>\n",
       "      <td>0.112320</td>\n",
       "      <td>-0.303015</td>\n",
       "    </tr>\n",
       "    <tr>\n",
       "      <th>10</th>\n",
       "      <td>0.639691</td>\n",
       "      <td>0.002389</td>\n",
       "      <td>-0.070910</td>\n",
       "      <td>0.184030</td>\n",
       "      <td>0.053065</td>\n",
       "      <td>-0.051421</td>\n",
       "      <td>0.068702</td>\n",
       "      <td>-0.567332</td>\n",
       "      <td>0.340711</td>\n",
       "      <td>0.069555</td>\n",
       "      <td>-0.314526</td>\n",
       "    </tr>\n",
       "  </tbody>\n",
       "</table>\n",
       "</div>"
      ],
      "text/plain": [
       "          0         1         2         3         4         5         6   \\\n",
       "0   0.489314 -0.238584  0.463632  0.146107  0.212247 -0.036158  0.023575   \n",
       "1  -0.110503  0.274930 -0.151791  0.272080  0.148052  0.513567  0.569487   \n",
       "2  -0.123302 -0.449963  0.238247  0.101283 -0.092614  0.428793  0.322415   \n",
       "3  -0.229617  0.078960 -0.079418 -0.372793  0.666195 -0.043538 -0.034577   \n",
       "4  -0.082614  0.218735 -0.058573  0.732144  0.246501 -0.159152 -0.222465   \n",
       "5   0.101479  0.411449  0.069593  0.049156  0.304339 -0.014000  0.136308   \n",
       "6  -0.350227 -0.533735  0.105497  0.290663  0.370413 -0.116596 -0.093662   \n",
       "7  -0.177595 -0.078775 -0.377516  0.299845 -0.357009 -0.204781  0.019036   \n",
       "8  -0.194021  0.129110  0.381450 -0.007523 -0.111339 -0.635405  0.592116   \n",
       "9  -0.249523  0.365925  0.621677  0.092872 -0.217671  0.248483 -0.370750   \n",
       "10  0.639691  0.002389 -0.070910  0.184030  0.053065 -0.051421  0.068702   \n",
       "\n",
       "          7         8         9         10  \n",
       "0   0.395353 -0.438520  0.242921 -0.113232  \n",
       "1   0.233575  0.006711 -0.037554 -0.386181  \n",
       "2  -0.338871  0.057697  0.279786  0.471673  \n",
       "3  -0.174500 -0.003788  0.550872 -0.122181  \n",
       "4   0.157077  0.267530  0.225962  0.350681  \n",
       "5  -0.391152 -0.522116 -0.381263  0.361645  \n",
       "6  -0.170481 -0.025138 -0.447469 -0.327651  \n",
       "7  -0.239223 -0.561391  0.374604 -0.217626  \n",
       "8  -0.020719  0.167746  0.058367 -0.037603  \n",
       "9  -0.239990 -0.010970  0.112320 -0.303015  \n",
       "10 -0.567332  0.340711  0.069555 -0.314526  "
      ]
     },
     "execution_count": 39,
     "metadata": {},
     "output_type": "execute_result"
    }
   ],
   "source": [
    "pd.DataFrame(pca_fitted.components_)"
   ]
  },
  {
   "cell_type": "code",
   "execution_count": 40,
   "id": "4db4ff5b",
   "metadata": {},
   "outputs": [],
   "source": [
    "# PC1 = (fixed acidity * 0.489314) + (volatile acidity * -0.238584) + … + (alcohol * -0.113232)"
   ]
  },
  {
   "cell_type": "code",
   "execution_count": 41,
   "id": "c2835c74",
   "metadata": {},
   "outputs": [
    {
     "ename": "TypeError",
     "evalue": "'PCA' object is not subscriptable",
     "output_type": "error",
     "traceback": [
      "\u001b[0;31m---------------------------------------------------------------------------\u001b[0m",
      "\u001b[0;31mTypeError\u001b[0m                                 Traceback (most recent call last)",
      "\u001b[0;32m<ipython-input-41-de56c835b477>\u001b[0m in \u001b[0;36m<module>\u001b[0;34m\u001b[0m\n\u001b[0;32m----> 1\u001b[0;31m pd.DataFrame(pca_fitted[:,:6], columns=list(\n\u001b[0m\u001b[1;32m      2\u001b[0m [u'Acidity', u'Sulfides', u'More alcohol', u'Chlorides', u'More residual sugar', u'Less pH'])).head(10)\n",
      "\u001b[0;31mTypeError\u001b[0m: 'PCA' object is not subscriptable"
     ]
    }
   ],
   "source": [
    "pd.DataFrame(pca_fitted[:,:6], columns=list(\n",
    "[u'Acidity', u'Sulfides', u'More alcohol', u'Chlorides', u'More residual sugar', u'Less pH'])).head(10)"
   ]
  },
  {
   "cell_type": "code",
   "execution_count": null,
   "id": "3bbefed4",
   "metadata": {},
   "outputs": [],
   "source": [
    "pca_1 = PCA(n_components=6) # keeping only one component\n",
    "df = pd.DataFrame(pca_1.fit_transform(X),columns=[  \n",
    "    'factor 1',\n",
    "    'factor 2',\n",
    "    'factor 3',\n",
    "    'factor 4',\n",
    "    'factor 5',\n",
    "    'factor 6',\n",
    "])"
   ]
  },
  {
   "cell_type": "code",
   "execution_count": null,
   "id": "cedd2b8b",
   "metadata": {},
   "outputs": [],
   "source": [
    "correlation_matrix2 = df.corr(method = 'pearson')\n",
    "fig5 = plt.figure(figsize = (8,8))\n",
    "sns.heatmap(correlation_matrix2, annot=True,linewidths=1)"
   ]
  },
  {
   "cell_type": "markdown",
   "id": "a0ae5bef",
   "metadata": {},
   "source": [
    "# Metrics and Further Exploration"
   ]
  },
  {
   "cell_type": "code",
   "execution_count": null,
   "id": "4b327843",
   "metadata": {},
   "outputs": [],
   "source": [
    "X = wine[[  \n",
    "    'fixed acidity', \n",
    "    'volatile acidity', \n",
    "    'citric acid', \n",
    "    'residual sugar', \n",
    "    'chlorides', \n",
    "    'free sulfur dioxide', \n",
    "    'total sulfur dioxide', \n",
    "    'density', \n",
    "    'pH', \n",
    "    'sulphates',\n",
    "    'alcohol'\n",
    "]]\n",
    "y = wine['quality']"
   ]
  },
  {
   "cell_type": "code",
   "execution_count": null,
   "id": "226780e8",
   "metadata": {},
   "outputs": [],
   "source": [
    "X_ = sm.add_constant(X)\n",
    "model = sm.OLS(y,X_).fit() \n",
    "print(model.summary())"
   ]
  },
  {
   "cell_type": "markdown",
   "id": "1013f7b9",
   "metadata": {},
   "source": [
    "# K-Nearest Neighbor"
   ]
  },
  {
   "cell_type": "code",
   "execution_count": null,
   "id": "2cf4d7ab",
   "metadata": {},
   "outputs": [],
   "source": [
    "from sklearn.neighbors import KNeighborsClassifier\n",
    "from sklearn.metrics import confusion_matrix, accuracy_score"
   ]
  },
  {
   "cell_type": "code",
   "execution_count": null,
   "id": "cf6ae46b",
   "metadata": {},
   "outputs": [],
   "source": [
    "X = wine[[  \n",
    "    'fixed acidity', \n",
    "    'volatile acidity', \n",
    "    'citric acid', \n",
    "    'residual sugar', \n",
    "    'chlorides', \n",
    "    'free sulfur dioxide', \n",
    "    'total sulfur dioxide', \n",
    "    'density', \n",
    "    'pH', \n",
    "    'sulphates',\n",
    "    'alcohol'\n",
    "]]\n",
    "y = wine['quality']"
   ]
  },
  {
   "cell_type": "code",
   "execution_count": 42,
   "id": "35cd0690",
   "metadata": {},
   "outputs": [],
   "source": [
    "## 11 components"
   ]
  },
  {
   "cell_type": "code",
   "execution_count": 44,
   "id": "ee9dad13",
   "metadata": {},
   "outputs": [],
   "source": [
    "from sklearn.neighbors import KNeighborsClassifier\n",
    "from sklearn"
   ]
  },
  {
   "cell_type": "code",
   "execution_count": 45,
   "id": "933d1244",
   "metadata": {},
   "outputs": [
    {
     "name": "stdout",
     "output_type": "stream",
     "text": [
      "Confusion matrix:\n"
     ]
    },
    {
     "ename": "NameError",
     "evalue": "name 'confusion_matrix' is not defined",
     "output_type": "error",
     "traceback": [
      "\u001b[0;31m---------------------------------------------------------------------------\u001b[0m",
      "\u001b[0;31mNameError\u001b[0m                                 Traceback (most recent call last)",
      "\u001b[0;32m<ipython-input-45-e5cbc0721700>\u001b[0m in \u001b[0;36m<module>\u001b[0;34m\u001b[0m\n\u001b[1;32m      4\u001b[0m \u001b[0;34m\u001b[0m\u001b[0m\n\u001b[1;32m      5\u001b[0m \u001b[0mprint\u001b[0m\u001b[0;34m(\u001b[0m\u001b[0;34m'Confusion matrix:'\u001b[0m\u001b[0;34m)\u001b[0m\u001b[0;34m\u001b[0m\u001b[0;34m\u001b[0m\u001b[0m\n\u001b[0;32m----> 6\u001b[0;31m \u001b[0mprint\u001b[0m\u001b[0;34m(\u001b[0m\u001b[0mconfusion_matrix\u001b[0m\u001b[0;34m(\u001b[0m\u001b[0my_pred_knn\u001b[0m\u001b[0;34m,\u001b[0m\u001b[0my\u001b[0m\u001b[0;34m)\u001b[0m\u001b[0;34m)\u001b[0m\u001b[0;34m\u001b[0m\u001b[0;34m\u001b[0m\u001b[0m\n\u001b[0m\u001b[1;32m      7\u001b[0m \u001b[0;34m\u001b[0m\u001b[0m\n\u001b[1;32m      8\u001b[0m \u001b[0mprint\u001b[0m\u001b[0;34m(\u001b[0m\u001b[0;34m'Accuracy:'\u001b[0m\u001b[0;34m)\u001b[0m\u001b[0;34m\u001b[0m\u001b[0;34m\u001b[0m\u001b[0m\n",
      "\u001b[0;31mNameError\u001b[0m: name 'confusion_matrix' is not defined"
     ]
    }
   ],
   "source": [
    "knn = KNeighborsClassifier(n_neighbors=3)\n",
    "knn.fit(X,y)\n",
    "y_pred_knn = knn.predict(X)\n",
    "\n",
    "print('Confusion matrix:')\n",
    "print(confusion_matrix(y_pred_knn,y))\n",
    "\n",
    "print('Accuracy:')\n",
    "print(accuracy_score(y_pred_knn,y))"
   ]
  },
  {
   "cell_type": "code",
   "execution_count": 49,
   "id": "276eb5ec",
   "metadata": {},
   "outputs": [],
   "source": [
    "## 6 components"
   ]
  },
  {
   "cell_type": "code",
   "execution_count": 50,
   "id": "9f4d3041",
   "metadata": {},
   "outputs": [
    {
     "data": {
      "text/plain": [
       "(1599, 11)"
      ]
     },
     "execution_count": 50,
     "metadata": {},
     "output_type": "execute_result"
    }
   ],
   "source": [
    "X_pca.shape"
   ]
  },
  {
   "cell_type": "code",
   "execution_count": 51,
   "id": "35e4d34b",
   "metadata": {},
   "outputs": [
    {
     "data": {
      "text/plain": [
       "(1599, 6)"
      ]
     },
     "execution_count": 51,
     "metadata": {},
     "output_type": "execute_result"
    }
   ],
   "source": [
    "X_pca[:,:6].shape"
   ]
  },
  {
   "cell_type": "code",
   "execution_count": 52,
   "id": "33d32668",
   "metadata": {},
   "outputs": [],
   "source": [
    "truncated_X_pca = X_pca[:,:6]"
   ]
  },
  {
   "cell_type": "code",
   "execution_count": 53,
   "id": "f9736835",
   "metadata": {},
   "outputs": [
    {
     "name": "stdout",
     "output_type": "stream",
     "text": [
      "Confusion matrix:\n",
      "[[  7   4   5   1   0   0]\n",
      " [  0  18  11  11   3   0]\n",
      " [  2  16 584  92  26   4]\n",
      " [  1  14  75 507  37   6]\n",
      " [  0   1   6  27 132   5]\n",
      " [  0   0   0   0   1   3]]\n",
      "Accuracy:\n",
      "0.7823639774859287\n"
     ]
    }
   ],
   "source": [
    "knn_2 = KNeighborsClassifier(n_neighbors=3)\n",
    "knn_2.fit(truncated_X_pca,y)\n",
    "y_pred_knn_2 = knn_2.predict(truncated_X_pca)\n",
    "\n",
    "print('Confusion matrix:')\n",
    "print(confusion_matrix(y_pred_knn_2,y))\n",
    "\n",
    "print('Accuracy:')\n",
    "print(accuracy_score(y_pred_knn_2,y))"
   ]
  },
  {
   "cell_type": "markdown",
   "id": "dc1a4a19",
   "metadata": {},
   "source": [
    "# End"
   ]
  },
  {
   "cell_type": "code",
   "execution_count": null,
   "id": "eddec386",
   "metadata": {},
   "outputs": [],
   "source": []
  }
 ],
 "metadata": {
  "kernelspec": {
   "display_name": "Python 3",
   "language": "python",
   "name": "python3"
  },
  "language_info": {
   "codemirror_mode": {
    "name": "ipython",
    "version": 3
   },
   "file_extension": ".py",
   "mimetype": "text/x-python",
   "name": "python",
   "nbconvert_exporter": "python",
   "pygments_lexer": "ipython3",
   "version": "3.8.8"
  }
 },
 "nbformat": 4,
 "nbformat_minor": 5
}
